{
  "nbformat": 4,
  "nbformat_minor": 0,
  "metadata": {
    "colab": {
      "provenance": [],
      "authorship_tag": "ABX9TyO9Ov4AQRLPCAj3N9k2SU2J",
      "include_colab_link": true
    },
    "kernelspec": {
      "name": "python3",
      "display_name": "Python 3"
    },
    "language_info": {
      "name": "python"
    }
  },
  "cells": [
    {
      "cell_type": "markdown",
      "metadata": {
        "id": "view-in-github",
        "colab_type": "text"
      },
      "source": [
        "<a href=\"https://colab.research.google.com/github/Gnome101/MAT_422/blob/main/Module_1.ipynb\" target=\"_parent\"><img src=\"https://colab.research.google.com/assets/colab-badge.svg\" alt=\"Open In Colab\"/></a>"
      ]
    },
    {
      "cell_type": "markdown",
      "source": [
        "# Chapter 1.2 Linear Algebra"
      ],
      "metadata": {
        "id": "JA4A0yuw_0LY"
      }
    },
    {
      "cell_type": "markdown",
      "source": [
        "## 1.2.1 Linear Spaces\n"
      ],
      "metadata": {
        "id": "ad0RFKCX_4tU"
      }
    },
    {
      "cell_type": "markdown",
      "source": [
        "Linear Combination: A new vector made from a subset by multipling vectors together with a constant(or a scalar) and then adding the results\n",
        "\n",
        "Span: The span of a list or set of vectors is the set of all linear combinations of those vectors\n",
        "\n",
        "Linear Subspace: A subset of a vector space that includes the zero vector and is closed under vector addition and scalar multipication.\n",
        "\n",
        "Linear Independence: A list of vectors is linearly indepdenent if none of them can be written as a linear combination of others.\n",
        "\n",
        "Linear Dependence: A list of vectors are linearly depdendent if they are not linearly independent.\n",
        "\n",
        "Basis:  A set of vectors that makes all of the elements of a vector space, and these vectors are linearly independent.\n",
        "\n",
        "Dimension: The number of rows x columns of a matrix.\n",
        "\n",
        "Rank: The dimension of a column space of A\n",
        "\n",
        "For a $m$ $x$ $n$  matrix $A$, the rank is the largest number of linearly independent row vectors. If the rank is m, then the vectors are linearly independent, if the rank is less than m then they are dependent.\n",
        "\n",
        "Dimension Theorem: If $U$ is a subspace of $V$ then the number of vectors in a basis of $U$ will be less than or equal to dim($V$).\n",
        "\n",
        "\n",
        "\n",
        "\n"
      ],
      "metadata": {
        "id": "mjwdY1sbAcPT"
      }
    },
    {
      "cell_type": "code",
      "source": [
        "import numpy as np\n",
        "#We will make vectors x and y in numpy\n",
        "x = np.array([1, 2, 3])\n",
        "y = np.array([3, 1, 4])\n",
        "\n",
        "#a is a linear combination of x and y\n",
        "a = x + y * 2\n",
        "print(\"Linear Combination of vector x & y:\",a)\n"
      ],
      "metadata": {
        "colab": {
          "base_uri": "https://localhost:8080/"
        },
        "id": "MLt4BD6gACjy",
        "outputId": "0419dddf-e3fc-4465-e71b-453f4b90c5d5"
      },
      "execution_count": null,
      "outputs": [
        {
          "output_type": "stream",
          "name": "stdout",
          "text": [
            "Linear Combination of vector x & y: [ 7  4 11]\n"
          ]
        }
      ]
    },
    {
      "cell_type": "code",
      "source": [
        "def isLinearIndependent(A):\n",
        "  colunm_count = A.shape[1]\n",
        "  if(np.linalg.matrix_rank(A) == colunm_count): print(\"This array is linearly independent \")\n",
        "  else: print(\"This array is linearly dependent\")"
      ],
      "metadata": {
        "id": "X1sX6SLaV9dS"
      },
      "execution_count": null,
      "outputs": []
    },
    {
      "cell_type": "code",
      "source": [
        "#matrix_rank gives the rank of a matrix\n",
        "#The number of columns of the matrix below is 3\n",
        "# 1 2\n",
        "# 2 4\n",
        "# 3 6\n",
        "\n",
        "A = np.array([[1, 2, 3], [2, 4, 6], ])\n",
        "isLinearIndependent(A)\n",
        "#This makes sense because for example we can form a linear combination equal to the second column\n",
        "t = np.array_equal((A[0] * 2 + A[1] * 0 ) , A[1])\n",
        "print(t)"
      ],
      "metadata": {
        "colab": {
          "base_uri": "https://localhost:8080/"
        },
        "id": "uGscANDeS0LM",
        "outputId": "92d7fb7b-4698-4ba3-fe75-a9feb7bf5ded"
      },
      "execution_count": 122,
      "outputs": [
        {
          "output_type": "stream",
          "name": "stdout",
          "text": [
            "This array is linearly dependent\n",
            "True\n"
          ]
        }
      ]
    },
    {
      "cell_type": "code",
      "source": [
        "I = np.identity(3)\n",
        "# 1 0 0\n",
        "# 0 1 0\n",
        "# 0 0 1\n",
        "#The identiy matrix is linearly independent because the columns cannot equal each other\n",
        "isLinearIndependent(I)"
      ],
      "metadata": {
        "colab": {
          "base_uri": "https://localhost:8080/"
        },
        "id": "mAMcpirSkFqa",
        "outputId": "14a4f1d9-6ed3-4a65-b51e-2db03e8b1385"
      },
      "execution_count": 123,
      "outputs": [
        {
          "output_type": "stream",
          "name": "stdout",
          "text": [
            "This array is linearly independent \n"
          ]
        }
      ]
    },
    {
      "cell_type": "markdown",
      "source": [
        "## 1.2.2 Orthogonalitiy\n"
      ],
      "metadata": {
        "id": "MR8k9sqJFrYm"
      }
    },
    {
      "cell_type": "markdown",
      "source": [
        "Orthonormal bases can simplify mathematical representations.\n",
        "\n",
        "A list of vectors $\\{ u_1, ..., u_i\\}$ is orthonormal if the $u_i$ are pairwise orthonormal. Essentially each $u_i$ must have a dot product of 0.\n",
        "\n",
        "A dot product is shown by ⟨x,y⟩\n",
        "\n",
        "Best Approximation Theorem: If $W$ is a subspace of a vector space $V$, and if $v$ is any vector in $V$ then the orthogonal projection of $v$ onto $W$ is the closest vector in $W$ to $v$.\n",
        "\n",
        "Orthogonal Projection:\n",
        "The orthogonal projection of a vector onto a subspace is the closest point in the subspace to the vector. The vector and its difference is orthogonal to the subspace."
      ],
      "metadata": {
        "id": "uwn3HWlDFxam"
      }
    },
    {
      "cell_type": "code",
      "source": [
        "def isOrthogonal(v1,v2):\n",
        "    # Have to use the isClose because of python rounding erros :(\n",
        "    x = np.isclose(np.dot(v1, v2), 0, atol=1e-8)\n",
        "    if(x): print(\"These are orthogonal\")\n",
        "    if(not x): print(\"These are not orthogonal\")\n"
      ],
      "metadata": {
        "id": "BD_y4h6xGgUU"
      },
      "execution_count": null,
      "outputs": []
    },
    {
      "cell_type": "code",
      "source": [
        "# The dot product of x and y will be shown below\n",
        "b = np.dot(x,y)\n",
        "print(b)\n",
        "\n",
        "isOrthogonal(x,y)\n",
        "#Since the dot product is not 0, they are not orthogonal\n",
        "o1 = np.array([-1, 2, 0])\n",
        "o2 = np.array([4, 2, 0])\n",
        "\n",
        "isOrthogonal(o1,o2)\n",
        "#Since the dot prodcut of o1 and o2 is -1 * -4 + 2 * 2 + 0 * 0 = 0 then they are orthogornal\n",
        "\n"
      ],
      "metadata": {
        "colab": {
          "base_uri": "https://localhost:8080/"
        },
        "id": "8ZtbtpjDGLAf",
        "outputId": "221e3573-b6da-4662-d9bd-e8ac3052039d"
      },
      "execution_count": null,
      "outputs": [
        {
          "output_type": "stream",
          "name": "stdout",
          "text": [
            "17\n",
            "These are not orthogonal\n",
            "These are orthogonal\n"
          ]
        }
      ]
    },
    {
      "cell_type": "code",
      "source": [
        "v = np.array([3, 4])\n",
        "w = np.array([1, 2])\n",
        "\n"
      ],
      "metadata": {
        "id": "hvUGMD0bJd8l"
      },
      "execution_count": null,
      "outputs": []
    },
    {
      "cell_type": "markdown",
      "source": [
        "## 1.2.3 Gram-Schmidt Process\n"
      ],
      "metadata": {
        "id": "FBQ6u3iyMOPe"
      }
    },
    {
      "cell_type": "markdown",
      "source": [
        "The Gram-Schmidt algorithm is used to obtain an orthonormal basis.\n",
        "\n",
        "Let $a_1,...,a_m$ in $R^n$ be linearly independent.\n",
        "Then there exists an orthonormal basis $q_1,...,q_m$ of a span\n",
        "\n",
        "Start with a set of linearly independent vectors\n",
        "\n",
        "Then set the first vector as the first orthogonal vector.\n",
        "\n",
        "Then project each subsequent vector onto the subspace spanned by the previous orthogonal vector.\n",
        "\n"
      ],
      "metadata": {
        "id": "O9FkpQN9MR78"
      }
    },
    {
      "cell_type": "code",
      "source": [
        "#\n",
        "v = np.array([3, 4])\n",
        "w = np.array([1, 2])\n",
        "\n",
        "u1 = v\n",
        "\n",
        "u1_norm = np.dot(u1, u1)\n",
        "\n",
        "proj_w_u1 = (np.dot(w, u1) / u1_norm) * u1\n",
        "u2 = w - proj_w_u1\n",
        "\n",
        "isOrthogonal(u1,u2)\n",
        "\n"
      ],
      "metadata": {
        "colab": {
          "base_uri": "https://localhost:8080/"
        },
        "id": "hKtV7CNXOI9v",
        "outputId": "657956f5-2802-4d67-d8ed-ff064956229f"
      },
      "execution_count": 121,
      "outputs": [
        {
          "output_type": "stream",
          "name": "stdout",
          "text": [
            "These are orthogonal\n"
          ]
        }
      ]
    },
    {
      "cell_type": "markdown",
      "source": [
        "## 1.2.4 Eigenvalues and Eigen Vectors"
      ],
      "metadata": {
        "id": "CIn9JL9iQ9Y5"
      }
    },
    {
      "cell_type": "markdown",
      "source": [
        "Eigenvalue is a constant such that if $A \\in R^{dxd}$ where A is a square matrix.\n",
        "\n",
        "Then $\\lambda \\in R$ is an eigenvalue of A if there exists a nonzero vector such that $Ax = \\lambda x $\n",
        "\n",
        "The number of eigenvalues for $A$ is at most d.\n",
        "\n",
        "The vector x is referred to as the eigen vector.\n",
        "An eigenvector is a vector where its direction does not change after a linear transformation.\n",
        "\n",
        "If a matrix is symmetric, then any of its two eigenvectros are orthogonal.\n",
        "\n",
        "### Spectral Theorem for Symmetric Matrices\n",
        "An $n$ x $n$ symmetric matrix is called A then it has these properties:\n",
        "\n",
        "*   $A$ has $n$ real eigenvalues\n",
        "*   If \\lambda is an eigenvalue of A with a multiplicity k, then the eigenspace of \\lambda is k-dimensional\n",
        "*   The eigenspaces are mutually orthogonal, essentially each distinct eigenvector is orthogonal\n",
        "*  A is orthogonally diagonalizable\n",
        "\n",
        "\n",
        "For $Ax = \\lambda x$, the eigenspace $E_\\lambda$ is defined as\n",
        "\n",
        "$E_\\lambda$ = $\\{x \\in \\mathbb{R}^n  | Ax = \\lambda x\\}$\n",
        "\n",
        "So its the set of all vectors $x$ that are mapped to a scalar mutiple of themselves.\n",
        "\n",
        "\n",
        "### Constrained Optimization\n",
        "This is useful for optimization problems.\n",
        "\n",
        "Let $A$ be a $n$ $x$ $n$ matrix with an orthogonal diagonilzation of $P$$DP^{-1}$\n",
        "The columns of P are orthonromal eigenvectors. The diagonal of $D$ are arranged so that $\\lambda_1 \\le \\lambda_2 \\le ... \\lambda_n$\n",
        "\n",
        "$min_{x \\neq 0} \\frac{x^TAx}{x^Tx} = \\lambda_1$\n",
        "\n",
        "$max_{x \\neq 0} \\frac{x^TAx}{x^Tx} = \\lambda_n$"
      ],
      "metadata": {
        "id": "vJ4S6MV5RFDb"
      }
    },
    {
      "cell_type": "code",
      "source": [
        "#Make a matrix of random numbers:\n",
        "A = np.random.randint(0,10,(3,3))\n",
        "print(A)\n",
        "eig_value,eig_vect = np.linalg.eig(A)\n",
        "\n",
        "print(\"eigenvalues: \", eig_value)\n",
        "print(\"eigenvectors: \", eig_vect)\n",
        "\n",
        "\n",
        "\n"
      ],
      "metadata": {
        "colab": {
          "base_uri": "https://localhost:8080/"
        },
        "id": "pYBC4uCHSaw3",
        "outputId": "5c301b98-344a-4288-cea6-9e29636d3738"
      },
      "execution_count": null,
      "outputs": [
        {
          "output_type": "stream",
          "name": "stdout",
          "text": [
            "[[5 3 8]\n",
            " [2 8 7]\n",
            " [4 9 9]]\n",
            "eigenvalues:  [18.94018144  3.60214025 -0.54232169]\n",
            "eigenvectors:  [[-0.5052034  -0.91587908 -0.70804903]\n",
            " [-0.52875854  0.40134109 -0.34096642]\n",
            " [-0.68204394  0.0095309   0.61839184]]\n"
          ]
        }
      ]
    }
  ]
}