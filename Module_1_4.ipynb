{
  "nbformat": 4,
  "nbformat_minor": 0,
  "metadata": {
    "colab": {
      "provenance": [],
      "authorship_tag": "ABX9TyNBAePnNLV12rrcIRU4ykOD",
      "include_colab_link": true
    },
    "kernelspec": {
      "name": "python3",
      "display_name": "Python 3"
    },
    "language_info": {
      "name": "python"
    }
  },
  "cells": [
    {
      "cell_type": "markdown",
      "metadata": {
        "id": "view-in-github",
        "colab_type": "text"
      },
      "source": [
        "<a href=\"https://colab.research.google.com/github/Gnome101/MAT_422/blob/main/Module_1_4.ipynb\" target=\"_parent\"><img src=\"https://colab.research.google.com/assets/colab-badge.svg\" alt=\"Open In Colab\"/></a>"
      ]
    },
    {
      "cell_type": "code",
      "source": [
        "from tabulate import tabulate\n",
        "\n",
        "def print_matrix(matrix, name):\n",
        "    print(f\"\\n{name}:\")\n",
        "   #Using tabulate to make the matrix look better\n",
        "    print(tabulate(matrix, tablefmt=\"grid\", floatfmt=\".4f\"))"
      ],
      "metadata": {
        "id": "Np1YO4uMtRp8"
      },
      "execution_count": 4,
      "outputs": []
    },
    {
      "cell_type": "markdown",
      "source": [
        "# 1.4.1. Singular value decomposition\n",
        "This is a technique to factorize a matrix into three other matrices.\n",
        "\n",
        "Given a $m × n$ matrix $A$ can be written as $A = UΣV^T$\n",
        "\n",
        "$U$ is an $m × m$ orthogonal matrix they are called the left singular vectors of $A$.\n",
        "\n",
        "$Σ$ is  $m × n$ with a non-negative real numbers called singular values on the diagonal.\n",
        "\n",
        "$V^T$ is the transpose of an $n × n$ orthogonal matrix $V$ where the columns of $V$ are the right singular vectors of $A$."
      ],
      "metadata": {
        "id": "13Nmk7_mhml8"
      }
    },
    {
      "cell_type": "markdown",
      "source": [
        "The applications of SVD are mostly in reducing the dimensionality of data, compressiong data. For example SVD can be used for image compression."
      ],
      "metadata": {
        "id": "ZXL1KefumpQd"
      }
    },
    {
      "cell_type": "code",
      "source": [
        "#We will implement SVD compression for an arbitary matrix\n",
        "import numpy as np\n",
        "\n",
        "# Define a sample matrix A (3x2 matrix)\n",
        "A = np.array([[1, 2], [3, 4], [5, 6]])\n",
        "print_matrix(A, \"A Matrix\")\n",
        "# Perform Singular Value Decomposition\n",
        "U, Sigma, VT = np.linalg.svd(A)\n",
        "\n",
        "# We have to convert the sigma to a 2d diagonal\n",
        "Sigma_diag = np.zeros((A.shape[0], A.shape[1]))\n",
        "np.fill_diagonal(Sigma_diag, Sigma)\n",
        "\n",
        "# Display the U matrix\n",
        "print_matrix(U,\"U Matrix\" )\n",
        "# Display the Sigma matrix\n",
        "print_matrix(Sigma_diag,\"Σ Matrix \" )\n",
        "# Display the V^T matrix\n",
        "print_matrix(VT,\"V^T Matrix \" )\n",
        "#Notice how the matrix looks the same as the original A\n",
        "print_matrix(np.dot(U,np.dot(Sigma_diag,VT)), \"Reconstructed A Matrix\")\n"
      ],
      "metadata": {
        "colab": {
          "base_uri": "https://localhost:8080/"
        },
        "id": "y_Jrzin0nQkz",
        "outputId": "98125f03-5e57-4815-c698-29415107e2f4"
      },
      "execution_count": 8,
      "outputs": [
        {
          "output_type": "stream",
          "name": "stdout",
          "text": [
            "\n",
            "A Matrix:\n",
            "+--------+--------+\n",
            "| 1.0000 | 2.0000 |\n",
            "+--------+--------+\n",
            "| 3.0000 | 4.0000 |\n",
            "+--------+--------+\n",
            "| 5.0000 | 6.0000 |\n",
            "+--------+--------+\n",
            "\n",
            "U Matrix:\n",
            "+---------+---------+---------+\n",
            "| -0.2298 |  0.8835 |  0.4082 |\n",
            "+---------+---------+---------+\n",
            "| -0.5247 |  0.2408 | -0.8165 |\n",
            "+---------+---------+---------+\n",
            "| -0.8196 | -0.4019 |  0.4082 |\n",
            "+---------+---------+---------+\n",
            "\n",
            "Σ Matrix :\n",
            "+--------+--------+\n",
            "| 9.5255 | 0.0000 |\n",
            "+--------+--------+\n",
            "| 0.0000 | 0.5143 |\n",
            "+--------+--------+\n",
            "| 0.0000 | 0.0000 |\n",
            "+--------+--------+\n",
            "\n",
            "V^T Matrix :\n",
            "+---------+---------+\n",
            "| -0.6196 | -0.7849 |\n",
            "+---------+---------+\n",
            "| -0.7849 |  0.6196 |\n",
            "+---------+---------+\n",
            "\n",
            "Reconstructed A Matrix:\n",
            "+--------+--------+\n",
            "| 1.0000 | 2.0000 |\n",
            "+--------+--------+\n",
            "| 3.0000 | 4.0000 |\n",
            "+--------+--------+\n",
            "| 5.0000 | 6.0000 |\n",
            "+--------+--------+\n"
          ]
        }
      ]
    },
    {
      "cell_type": "markdown",
      "source": [
        "# 1.4.2. Low-rank matrix approximations\n",
        "This is essentially finding the best way to approximate a matrix using another matrix with a lower rank.\n",
        "\n",
        "The applications of this are the following:\n",
        "\n",
        "\n",
        "1.   Compression: The low-rank approximation can provide a compressed version of the original matrix with some loss. Essentially it can reduce a $m × n$ matrix described by $mn$ numbers to $k(m +n)$.\n",
        "2.   Updating a ML Model: Fine-tuning large machine learning models. A paper in 2021 found can use low rank matrix approximaitons to train a model with less parameters.\n",
        "3.  De-Noising: If $A$ is noisy then the low-rank approximation might throw out noise and give a more informative matrix.\n"
      ],
      "metadata": {
        "id": "dj5YdsIYhmpi"
      }
    },
    {
      "cell_type": "code",
      "source": [
        "#We will use the SVD decompostion from the previous example to create this one\n",
        "\n",
        "# Set the target rank as 1\n",
        "k = 1\n",
        "\n",
        "# Truncate U, Sigma, and V^T to keep only the first k singular values\n",
        "U_k = U[:, :k]\n",
        "Sigma_k = Sigma_diag[:k, :k]\n",
        "VT_k = VT[:k, :]\n",
        "\n",
        "# Now we remake the low-rank approximation of A\n",
        "A_low_rank = np.dot(U_k, np.dot(Sigma_k, VT_k))\n",
        "\n",
        "A, A_low_rank\n"
      ],
      "metadata": {
        "colab": {
          "base_uri": "https://localhost:8080/"
        },
        "id": "468AOmd7xKb6",
        "outputId": "152c9eec-e880-4f06-cee8-f217791d3ac2"
      },
      "execution_count": 11,
      "outputs": [
        {
          "output_type": "execute_result",
          "data": {
            "text/plain": [
              "(array([[1, 2],\n",
              "        [3, 4],\n",
              "        [5, 6]]),\n",
              " array([[1.35662819, 1.71846235],\n",
              "        [3.09719707, 3.92326845],\n",
              "        [4.83776596, 6.12807454]]))"
            ]
          },
          "metadata": {},
          "execution_count": 11
        }
      ]
    },
    {
      "cell_type": "markdown",
      "source": [
        "# 1.4.3. Principal component analysis\n",
        "\n",
        "This is a technique that can help to reduce the dimensionality of data while perserving the inherent variance in the dataset. It is commonly applied for data compression, noise reduction, and feature extraction.\n",
        "\n",
        "It works by transforming the data into a new coordinate system made up by its principal components which capture the largest amount of variance in the data.\n",
        "\n",
        "The following covariance matrix $S$ is created to denote the variance of the matrix.\n",
        "A covariance matrix is a square matrix that shows the covariance between pairs of variables in a dataset.\n",
        "\n",
        "$S = \\frac{1}{N - 1}XX^T$\n",
        "\n",
        "Then the eigen values and eigenvectors are found for the covariance matrix. The eigen values represent the amount of variance from each principal component, while the eigen vectors represent the direction that the variance is maximized.\n",
        "\n",
        "Then the data is projected  onto these principal components represented by $X_{reduced} = XV_k$\n",
        "\n"
      ],
      "metadata": {
        "id": "u4390tMuhmtJ"
      }
    },
    {
      "cell_type": "code",
      "source": [
        "import matplotlib.pyplot as plt # add this for plotting\n",
        "from sklearn.decomposition import PCA # add this to do PCA\n",
        "# Apply PCA to reduce the dataset to 1 dimension\n",
        "\n",
        "X = np.array([[1, 2, 3, 4, 5],\n",
        "                         [2, 4, 6, 8, 10],\n",
        "                         [3, 6, 9, 12, 15],\n",
        "                         [6, 12, 18, 24, 30],\n",
        "                         [5, 10, 15, 20, 25]])\n",
        "print_matrix(X, \"Matrix X\")\n",
        "pca = PCA(n_components=1)\n",
        "X_reduced = pca.fit_transform(X)\n",
        "# We will confirm that this is correct here:\n",
        "X_meaned = X - np.mean(X , axis = 0)\n",
        "#Using this we can get the covariance matrix of the mean centered data\n",
        "cov_mat = np.cov(X_meaned , rowvar = False)\n",
        "#then we get the eigen values and vectors of the covariance matrix\n",
        "eigen_values , eigen_vectors = np.linalg.eigh(cov_mat)\n",
        "sorted_index = np.argsort(eigen_values)[::-1] # we set it to -1 so its sorts descending order\n",
        "\n",
        "#Now we have to sort the eigen values\n",
        "#We sort them in a descending order so the first column will be the principal\n",
        "#component that captures the highest variability\n",
        "sorted_eigenvalue = eigen_values[sorted_index]\n",
        "sorted_eigenvectors = eigen_vectors[:,sorted_index]\n",
        "#next we choose a subset of the principal components, and we choose the first one\n",
        "eigenvector_subset = sorted_eigenvectors[:,0:1]\n",
        "X_reduced_calculated = np.dot(eigenvector_subset.transpose(),X_meaned.transpose()).transpose()\n",
        "\n",
        "# Print the reduced dataset\n",
        "# Notice how they are the same, so our calculation was correct\n",
        "print_matrix(X_reduced,\"Reduced Data\")\n",
        "print_matrix(X_reduced_calculated,\"Calculated Reduced Data\")\n",
        "\n",
        "plt.figure(figsize=(6, 4))\n",
        "plt.scatter(np.arange(len(X_reduced)), X_reduced, color='blue')\n",
        "plt.title('PCA Reduced Data to 1 Dimension')\n",
        "plt.xlabel('Sample Index')\n",
        "plt.ylabel('Principal Component Value')\n",
        "plt.grid(True)\n",
        "plt.show()\n",
        "#If you look at the plotted data point, you can see how it matches the pattern\n",
        "# of the data\n",
        "#Notice how the 4th row is the largest, so it has the largest projection along the principal component"
      ],
      "metadata": {
        "colab": {
          "base_uri": "https://localhost:8080/",
          "height": 1000
        },
        "id": "aQkJzsnayaD9",
        "outputId": "06394c20-5782-4db3-c83a-eed98c30fd4d"
      },
      "execution_count": 41,
      "outputs": [
        {
          "output_type": "stream",
          "name": "stdout",
          "text": [
            "\n",
            "Matrix X:\n",
            "+--------+---------+---------+---------+---------+\n",
            "| 1.0000 |  2.0000 |  3.0000 |  4.0000 |  5.0000 |\n",
            "+--------+---------+---------+---------+---------+\n",
            "| 2.0000 |  4.0000 |  6.0000 |  8.0000 | 10.0000 |\n",
            "+--------+---------+---------+---------+---------+\n",
            "| 3.0000 |  6.0000 |  9.0000 | 12.0000 | 15.0000 |\n",
            "+--------+---------+---------+---------+---------+\n",
            "| 6.0000 | 12.0000 | 18.0000 | 24.0000 | 30.0000 |\n",
            "+--------+---------+---------+---------+---------+\n",
            "| 5.0000 | 10.0000 | 15.0000 | 20.0000 | 25.0000 |\n",
            "+--------+---------+---------+---------+---------+\n",
            "\n",
            "Reduced Data:\n",
            "+----------+\n",
            "| -17.7989 |\n",
            "+----------+\n",
            "| -10.3827 |\n",
            "+----------+\n",
            "|  -2.9665 |\n",
            "+----------+\n",
            "|  19.2821 |\n",
            "+----------+\n",
            "|  11.8659 |\n",
            "+----------+\n",
            "\n",
            "Calculated Reduced Data:\n",
            "+----------+\n",
            "| -17.7989 |\n",
            "+----------+\n",
            "| -10.3827 |\n",
            "+----------+\n",
            "|  -2.9665 |\n",
            "+----------+\n",
            "|  19.2821 |\n",
            "+----------+\n",
            "|  11.8659 |\n",
            "+----------+\n"
          ]
        },
        {
          "output_type": "display_data",
          "data": {
            "text/plain": [
              "<Figure size 600x400 with 1 Axes>"
            ],
            "image/png": "[encoded data removed]"
          },
          "metadata": {}
        }
      ]
    }
  ]
}